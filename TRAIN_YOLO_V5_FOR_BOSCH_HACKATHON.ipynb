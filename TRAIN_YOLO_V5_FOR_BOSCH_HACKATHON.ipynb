{
  "nbformat": 4,
  "nbformat_minor": 0,
  "metadata": {
    "colab": {
      "name": "TRAIN_YOLO_V5_FOR_BOSCH_HACKATHON.ipynb",
      "provenance": [],
      "collapsed_sections": [],
      "toc_visible": true,
      "machine_shape": "hm"
    },
    "kernelspec": {
      "name": "python3",
      "display_name": "Python 3"
    },
    "accelerator": "GPU"
  },
  "cells": [
    {
      "cell_type": "code",
      "metadata": {
        "id": "beH-eBRLUKYG",
        "colab": {
          "base_uri": "https://localhost:8080/",
          "height": 34
        },
        "outputId": "a8bffa7f-a389-4467-ab1a-3cf190db01de"
      },
      "source": [
        "import torch\n",
        " \n",
        "torch.cuda.get_device_name(device=None)"
      ],
      "execution_count": null,
      "outputs": [
        {
          "output_type": "execute_result",
          "data": {
            "application/vnd.google.colaboratory.intrinsic+json": {
              "type": "string"
            },
            "text/plain": [
              "'Tesla P100-PCIE-16GB'"
            ]
          },
          "metadata": {
            "tags": []
          },
          "execution_count": 1
        }
      ]
    },
    {
      "cell_type": "code",
      "metadata": {
        "id": "0KnDrN0ZTg1W"
      },
      "source": [
        "!nvidia-smi"
      ],
      "execution_count": null,
      "outputs": []
    },
    {
      "cell_type": "markdown",
      "metadata": {
        "id": "2DBmYXVfJrxp"
      },
      "source": [
        "# Train Yolo v5 for bosch Hackathon \n",
        "## With default weights of yolov5m6.pt - YOLO v5 P6 m sized model\n",
        "~ Lakshya\n",
        "\n",
        "---"
      ]
    },
    {
      "cell_type": "markdown",
      "metadata": {
        "id": "VVO58hItFsT4"
      },
      "source": [
        "#CLONING THE YOLO-V5 FILES FROM CUSTOM REPOSITORY"
      ]
    },
    {
      "cell_type": "code",
      "metadata": {
        "id": "GBAJ4od4UEL3",
        "colab": {
          "base_uri": "https://localhost:8080/"
        },
        "outputId": "e7591cc4-4661-44b6-9598-7108c87344b4"
      },
      "source": [
        "!git clone https://github.com/lakshyads/yolov5-base-custom.git yolov5"
      ],
      "execution_count": null,
      "outputs": [
        {
          "output_type": "stream",
          "text": [
            "Cloning into 'yolov5'...\n",
            "remote: Enumerating objects: 112, done.\u001b[K\n",
            "remote: Counting objects: 100% (112/112), done.\u001b[K\n",
            "remote: Compressing objects: 100% (89/89), done.\u001b[K\n",
            "remote: Total 112 (delta 20), reused 111 (delta 19), pack-reused 0\u001b[K\n",
            "Receiving objects: 100% (112/112), 1.11 MiB | 16.66 MiB/s, done.\n",
            "Resolving deltas: 100% (20/20), done.\n"
          ],
          "name": "stdout"
        }
      ]
    },
    {
      "cell_type": "markdown",
      "metadata": {
        "id": "Wl6BjdGkF2BK"
      },
      "source": [
        "# CHANGING THE DIRECTORY"
      ]
    },
    {
      "cell_type": "code",
      "metadata": {
        "id": "Gu5UjPJTW9GW",
        "colab": {
          "base_uri": "https://localhost:8080/"
        },
        "outputId": "fb5b3add-4713-4be5-80a3-95970f8a651c"
      },
      "source": [
        "%cd yolov5/"
      ],
      "execution_count": null,
      "outputs": [
        {
          "output_type": "stream",
          "text": [
            "/content/yolov5\n"
          ],
          "name": "stdout"
        }
      ]
    },
    {
      "cell_type": "markdown",
      "metadata": {
        "id": "ge9PgTIeF6rI"
      },
      "source": [
        "#INSTALLING THE DEPENDENCIES"
      ]
    },
    {
      "cell_type": "code",
      "metadata": {
        "id": "gypm2_zVcm-m",
        "colab": {
          "base_uri": "https://localhost:8080/"
        },
        "outputId": "2c712470-bd74-4103-ad62-7368f495e6d2"
      },
      "source": [
        "!pip install -r requirements.txt"
      ],
      "execution_count": null,
      "outputs": [
        {
          "output_type": "stream",
          "text": [
            "Requirement already satisfied: matplotlib>=3.2.2 in /usr/local/lib/python3.7/dist-packages (from -r requirements.txt (line 4)) (3.2.2)\n",
            "Requirement already satisfied: numpy>=1.18.5 in /usr/local/lib/python3.7/dist-packages (from -r requirements.txt (line 5)) (1.19.5)\n",
            "Requirement already satisfied: opencv-python>=4.1.2 in /usr/local/lib/python3.7/dist-packages (from -r requirements.txt (line 6)) (4.1.2.30)\n",
            "Requirement already satisfied: Pillow in /usr/local/lib/python3.7/dist-packages (from -r requirements.txt (line 7)) (7.1.2)\n",
            "Collecting PyYAML>=5.3.1\n",
            "\u001b[?25l  Downloading https://files.pythonhosted.org/packages/7a/a5/393c087efdc78091afa2af9f1378762f9821c9c1d7a22c5753fb5ac5f97a/PyYAML-5.4.1-cp37-cp37m-manylinux1_x86_64.whl (636kB)\n",
            "\u001b[K     |████████████████████████████████| 645kB 6.8MB/s \n",
            "\u001b[?25hRequirement already satisfied: scipy>=1.4.1 in /usr/local/lib/python3.7/dist-packages (from -r requirements.txt (line 9)) (1.4.1)\n",
            "Requirement already satisfied: torch>=1.7.0 in /usr/local/lib/python3.7/dist-packages (from -r requirements.txt (line 10)) (1.8.1+cu101)\n",
            "Requirement already satisfied: torchvision>=0.8.1 in /usr/local/lib/python3.7/dist-packages (from -r requirements.txt (line 11)) (0.9.1+cu101)\n",
            "Requirement already satisfied: tqdm>=4.41.0 in /usr/local/lib/python3.7/dist-packages (from -r requirements.txt (line 12)) (4.41.1)\n",
            "Requirement already satisfied: tensorboard>=2.4.1 in /usr/local/lib/python3.7/dist-packages (from -r requirements.txt (line 15)) (2.5.0)\n",
            "Requirement already satisfied: seaborn>=0.11.0 in /usr/local/lib/python3.7/dist-packages (from -r requirements.txt (line 19)) (0.11.1)\n",
            "Requirement already satisfied: pandas in /usr/local/lib/python3.7/dist-packages (from -r requirements.txt (line 20)) (1.1.5)\n",
            "Requirement already satisfied: pycocotools>=2.0 in /usr/local/lib/python3.7/dist-packages (from -r requirements.txt (line 29)) (2.0.2)\n",
            "Collecting thop\n",
            "  Downloading https://files.pythonhosted.org/packages/6c/8b/22ce44e1c71558161a8bd54471123cc796589c7ebbfc15a7e8932e522f83/thop-0.0.31.post2005241907-py3-none-any.whl\n",
            "Requirement already satisfied: pyparsing!=2.0.4,!=2.1.2,!=2.1.6,>=2.0.1 in /usr/local/lib/python3.7/dist-packages (from matplotlib>=3.2.2->-r requirements.txt (line 4)) (2.4.7)\n",
            "Requirement already satisfied: cycler>=0.10 in /usr/local/lib/python3.7/dist-packages (from matplotlib>=3.2.2->-r requirements.txt (line 4)) (0.10.0)\n",
            "Requirement already satisfied: kiwisolver>=1.0.1 in /usr/local/lib/python3.7/dist-packages (from matplotlib>=3.2.2->-r requirements.txt (line 4)) (1.3.1)\n",
            "Requirement already satisfied: python-dateutil>=2.1 in /usr/local/lib/python3.7/dist-packages (from matplotlib>=3.2.2->-r requirements.txt (line 4)) (2.8.1)\n",
            "Requirement already satisfied: typing-extensions in /usr/local/lib/python3.7/dist-packages (from torch>=1.7.0->-r requirements.txt (line 10)) (3.7.4.3)\n",
            "Requirement already satisfied: google-auth<2,>=1.6.3 in /usr/local/lib/python3.7/dist-packages (from tensorboard>=2.4.1->-r requirements.txt (line 15)) (1.30.0)\n",
            "Requirement already satisfied: requests<3,>=2.21.0 in /usr/local/lib/python3.7/dist-packages (from tensorboard>=2.4.1->-r requirements.txt (line 15)) (2.23.0)\n",
            "Requirement already satisfied: absl-py>=0.4 in /usr/local/lib/python3.7/dist-packages (from tensorboard>=2.4.1->-r requirements.txt (line 15)) (0.12.0)\n",
            "Requirement already satisfied: protobuf>=3.6.0 in /usr/local/lib/python3.7/dist-packages (from tensorboard>=2.4.1->-r requirements.txt (line 15)) (3.12.4)\n",
            "Requirement already satisfied: wheel>=0.26; python_version >= \"3\" in /usr/local/lib/python3.7/dist-packages (from tensorboard>=2.4.1->-r requirements.txt (line 15)) (0.36.2)\n",
            "Requirement already satisfied: grpcio>=1.24.3 in /usr/local/lib/python3.7/dist-packages (from tensorboard>=2.4.1->-r requirements.txt (line 15)) (1.34.1)\n",
            "Requirement already satisfied: werkzeug>=0.11.15 in /usr/local/lib/python3.7/dist-packages (from tensorboard>=2.4.1->-r requirements.txt (line 15)) (1.0.1)\n",
            "Requirement already satisfied: tensorboard-data-server<0.7.0,>=0.6.0 in /usr/local/lib/python3.7/dist-packages (from tensorboard>=2.4.1->-r requirements.txt (line 15)) (0.6.1)\n",
            "Requirement already satisfied: setuptools>=41.0.0 in /usr/local/lib/python3.7/dist-packages (from tensorboard>=2.4.1->-r requirements.txt (line 15)) (57.0.0)\n",
            "Requirement already satisfied: markdown>=2.6.8 in /usr/local/lib/python3.7/dist-packages (from tensorboard>=2.4.1->-r requirements.txt (line 15)) (3.3.4)\n",
            "Requirement already satisfied: google-auth-oauthlib<0.5,>=0.4.1 in /usr/local/lib/python3.7/dist-packages (from tensorboard>=2.4.1->-r requirements.txt (line 15)) (0.4.4)\n",
            "Requirement already satisfied: tensorboard-plugin-wit>=1.6.0 in /usr/local/lib/python3.7/dist-packages (from tensorboard>=2.4.1->-r requirements.txt (line 15)) (1.8.0)\n",
            "Requirement already satisfied: pytz>=2017.2 in /usr/local/lib/python3.7/dist-packages (from pandas->-r requirements.txt (line 20)) (2018.9)\n",
            "Requirement already satisfied: cython>=0.27.3 in /usr/local/lib/python3.7/dist-packages (from pycocotools>=2.0->-r requirements.txt (line 29)) (0.29.23)\n",
            "Requirement already satisfied: six in /usr/local/lib/python3.7/dist-packages (from cycler>=0.10->matplotlib>=3.2.2->-r requirements.txt (line 4)) (1.15.0)\n",
            "Requirement already satisfied: rsa<5,>=3.1.4; python_version >= \"3.6\" in /usr/local/lib/python3.7/dist-packages (from google-auth<2,>=1.6.3->tensorboard>=2.4.1->-r requirements.txt (line 15)) (4.7.2)\n",
            "Requirement already satisfied: cachetools<5.0,>=2.0.0 in /usr/local/lib/python3.7/dist-packages (from google-auth<2,>=1.6.3->tensorboard>=2.4.1->-r requirements.txt (line 15)) (4.2.2)\n",
            "Requirement already satisfied: pyasn1-modules>=0.2.1 in /usr/local/lib/python3.7/dist-packages (from google-auth<2,>=1.6.3->tensorboard>=2.4.1->-r requirements.txt (line 15)) (0.2.8)\n",
            "Requirement already satisfied: chardet<4,>=3.0.2 in /usr/local/lib/python3.7/dist-packages (from requests<3,>=2.21.0->tensorboard>=2.4.1->-r requirements.txt (line 15)) (3.0.4)\n",
            "Requirement already satisfied: idna<3,>=2.5 in /usr/local/lib/python3.7/dist-packages (from requests<3,>=2.21.0->tensorboard>=2.4.1->-r requirements.txt (line 15)) (2.10)\n",
            "Requirement already satisfied: certifi>=2017.4.17 in /usr/local/lib/python3.7/dist-packages (from requests<3,>=2.21.0->tensorboard>=2.4.1->-r requirements.txt (line 15)) (2020.12.5)\n",
            "Requirement already satisfied: urllib3!=1.25.0,!=1.25.1,<1.26,>=1.21.1 in /usr/local/lib/python3.7/dist-packages (from requests<3,>=2.21.0->tensorboard>=2.4.1->-r requirements.txt (line 15)) (1.24.3)\n",
            "Requirement already satisfied: importlib-metadata; python_version < \"3.8\" in /usr/local/lib/python3.7/dist-packages (from markdown>=2.6.8->tensorboard>=2.4.1->-r requirements.txt (line 15)) (4.0.1)\n",
            "Requirement already satisfied: requests-oauthlib>=0.7.0 in /usr/local/lib/python3.7/dist-packages (from google-auth-oauthlib<0.5,>=0.4.1->tensorboard>=2.4.1->-r requirements.txt (line 15)) (1.3.0)\n",
            "Requirement already satisfied: pyasn1>=0.1.3 in /usr/local/lib/python3.7/dist-packages (from rsa<5,>=3.1.4; python_version >= \"3.6\"->google-auth<2,>=1.6.3->tensorboard>=2.4.1->-r requirements.txt (line 15)) (0.4.8)\n",
            "Requirement already satisfied: zipp>=0.5 in /usr/local/lib/python3.7/dist-packages (from importlib-metadata; python_version < \"3.8\"->markdown>=2.6.8->tensorboard>=2.4.1->-r requirements.txt (line 15)) (3.4.1)\n",
            "Requirement already satisfied: oauthlib>=3.0.0 in /usr/local/lib/python3.7/dist-packages (from requests-oauthlib>=0.7.0->google-auth-oauthlib<0.5,>=0.4.1->tensorboard>=2.4.1->-r requirements.txt (line 15)) (3.1.0)\n",
            "Installing collected packages: PyYAML, thop\n",
            "  Found existing installation: PyYAML 3.13\n",
            "    Uninstalling PyYAML-3.13:\n",
            "      Successfully uninstalled PyYAML-3.13\n",
            "Successfully installed PyYAML-5.4.1 thop-0.0.31.post2005241907\n"
          ],
          "name": "stdout"
        }
      ]
    },
    {
      "cell_type": "code",
      "metadata": {
        "colab": {
          "base_uri": "https://localhost:8080/"
        },
        "id": "ZO0hmGzsJJtr",
        "outputId": "bd092185-5018-485c-8fa3-e189c8e4a7a5"
      },
      "source": [
        "%cd ..\n"
      ],
      "execution_count": null,
      "outputs": [
        {
          "output_type": "stream",
          "text": [
            "/content\n"
          ],
          "name": "stdout"
        }
      ]
    },
    {
      "cell_type": "markdown",
      "metadata": {
        "id": "xhl6GuxJFml5"
      },
      "source": [
        "## READY THE DATASET\n"
      ]
    },
    {
      "cell_type": "code",
      "metadata": {
        "id": "sUVVZgRXIz7Q"
      },
      "source": [
        "!pip install PyDrive"
      ],
      "execution_count": null,
      "outputs": []
    },
    {
      "cell_type": "code",
      "metadata": {
        "id": "OQjhWx2bIz7R"
      },
      "source": [
        "import os\n",
        "from pydrive.auth import GoogleAuth\n",
        "from pydrive.drive import GoogleDrive\n",
        "from google.colab import auth\n",
        "from oauth2client.client import GoogleCredentials"
      ],
      "execution_count": null,
      "outputs": []
    },
    {
      "cell_type": "code",
      "metadata": {
        "id": "fyjQbwWdIz7R"
      },
      "source": [
        "auth.authenticate_user()\n",
        "gauth = GoogleAuth()\n",
        "gauth.credentials = GoogleCredentials.get_application_default()\n",
        "drive = GoogleDrive(gauth)"
      ],
      "execution_count": null,
      "outputs": []
    },
    {
      "cell_type": "markdown",
      "metadata": {
        "id": "k0lyQKmQIz7S"
      },
      "source": [
        "### Download zipped data to Colab from Google Drive"
      ]
    },
    {
      "cell_type": "code",
      "metadata": {
        "id": "v6gAoj-WIz7S"
      },
      "source": [
        "# File id for train-validate-test-split-data.zip = 1S23A8_uuiE2zp50qJDSp_xcC294kaFW7\n",
        "download = drive.CreateFile({'id': '1S23A8_uuiE2zp50qJDSp_xcC294kaFW7'})\n",
        "download.GetContentFile('train-validate-test-split-data.zip')"
      ],
      "execution_count": null,
      "outputs": []
    },
    {
      "cell_type": "markdown",
      "metadata": {
        "id": "cpBrb5tDLoTJ"
      },
      "source": [
        "## Download previously saved weights\n"
      ]
    },
    {
      "cell_type": "code",
      "metadata": {
        "id": "3MvuXdMvLs1X"
      },
      "source": [
        "# Folder id on GDrive for backups\n",
        "# download = drive.CreateFile({'id': '1Fo9h4-e-AvGSeYX0Q_086MnP7uquJMyN'})\n",
        "# download.GetContentFile('backups')"
      ],
      "execution_count": null,
      "outputs": []
    },
    {
      "cell_type": "markdown",
      "metadata": {
        "id": "TM3LGr1tKVrl"
      },
      "source": [
        "### Unzip in this workspace"
      ]
    },
    {
      "cell_type": "code",
      "metadata": {
        "id": "eqd267oMb49O"
      },
      "source": [
        "!unzip -q /content/train-validate-test-split-data.zip "
      ],
      "execution_count": null,
      "outputs": []
    },
    {
      "cell_type": "markdown",
      "metadata": {
        "id": "_g6cidPy16dc"
      },
      "source": [
        "## Change the directory again after installing dependencied if restart runtime required"
      ]
    },
    {
      "cell_type": "code",
      "metadata": {
        "colab": {
          "base_uri": "https://localhost:8080/"
        },
        "id": "9MKBAQKd2BSS",
        "outputId": "8dcc2c2f-2300-4898-e65e-e92c4a61f14c"
      },
      "source": [
        "%cd yolov5/"
      ],
      "execution_count": null,
      "outputs": [
        {
          "output_type": "stream",
          "text": [
            "/content/yolov5\n"
          ],
          "name": "stdout"
        }
      ]
    },
    {
      "cell_type": "markdown",
      "metadata": {
        "id": "JVwCa5WNRWBz"
      },
      "source": [
        "## Give full permissions to everthing inside /content/yolov5"
      ]
    },
    {
      "cell_type": "code",
      "metadata": {
        "id": "xhasEsGmWc15"
      },
      "source": [
        "!chmod -R 755 /content/yolov5\n"
      ],
      "execution_count": null,
      "outputs": []
    },
    {
      "cell_type": "markdown",
      "metadata": {
        "id": "QflTgxaqGAkh"
      },
      "source": [
        "# DOWNLOADING ALL VERSIONS OF YOLO-V5 MODEL"
      ]
    },
    {
      "cell_type": "code",
      "metadata": {
        "id": "XNXcfvaiQ1NV",
        "colab": {
          "base_uri": "https://localhost:8080/"
        },
        "outputId": "a9e94996-0c96-4b50-c222-720dc72b9ca8"
      },
      "source": [
        "!/content/yolov5/weights/download_weights.sh"
      ],
      "execution_count": null,
      "outputs": [
        {
          "output_type": "stream",
          "text": [
            "Downloading https://github.com/ultralytics/yolov5/releases/download/v5.0/yolov5s.pt to yolov5s.pt...\n",
            "100% 14.1M/14.1M [00:00<00:00, 43.3MB/s]\n",
            "\n",
            "Downloading https://github.com/ultralytics/yolov5/releases/download/v5.0/yolov5m.pt to yolov5m.pt...\n",
            "100% 41.1M/41.1M [00:00<00:00, 82.9MB/s]\n",
            "\n",
            "Downloading https://github.com/ultralytics/yolov5/releases/download/v5.0/yolov5l.pt to yolov5l.pt...\n",
            "100% 90.2M/90.2M [00:00<00:00, 102MB/s] \n",
            "\n",
            "Downloading https://github.com/ultralytics/yolov5/releases/download/v5.0/yolov5x.pt to yolov5x.pt...\n",
            "100% 168M/168M [00:01<00:00, 106MB/s] \n",
            "\n"
          ],
          "name": "stdout"
        }
      ]
    },
    {
      "cell_type": "markdown",
      "metadata": {
        "id": "kUi4h9WKGN_q"
      },
      "source": [
        "# STEPS BEFORE TRAINING CUSTOM DATASET:\n",
        "1. Go to yolov5/data/\n",
        "2. Open coco128.yaml\n",
        "3. Edit the following inside it:\n",
        "    \n",
        "\n",
        "      1.   Training and Test file path\n",
        "      2.   Number of classes and Class names.\n",
        "\n"
      ]
    },
    {
      "cell_type": "markdown",
      "metadata": {
        "id": "eonZvqVWHEea"
      },
      "source": [
        "# TRAINING THE YOLO-V5 MODEL"
      ]
    },
    {
      "cell_type": "code",
      "metadata": {
        "id": "JBz4MO3NXVPW"
      },
      "source": [
        "!python train.py --img 640 --batch 16 --epochs 150 --data my_data.yaml --weights yolov5s6.pt --nosave --cache "
      ],
      "execution_count": null,
      "outputs": []
    },
    {
      "cell_type": "markdown",
      "metadata": {
        "id": "r45cXEEV4_Ms"
      },
      "source": [
        "## Upload Best weights to GDrive after training \n",
        "### Also Zip and upload complete runs folder to GDrive as precaution"
      ]
    },
    {
      "cell_type": "code",
      "metadata": {
        "id": "8F3tZZh55GXe"
      },
      "source": [
        "from datetime import datetime\n",
        "import shutil\n",
        "import os\n",
        "\n",
        "# datetime object containing current date and time\n",
        "now = datetime.now()\n",
        "# dd/mm/YY H:M:S\n",
        "dt_string = now.strftime(\"%d%m%Y-T-%H%M%S\")\n",
        "model_name = 'yolov5s6'\n",
        "epocs = '150'\n",
        "batch_size = '16'\n",
        "initial_weights = 'pre_Init_Weights'\n",
        "# initial_weights = 'custom_Init_Weights'\n"
      ],
      "execution_count": null,
      "outputs": []
    },
    {
      "cell_type": "code",
      "metadata": {
        "colab": {
          "base_uri": "https://localhost:8080/"
        },
        "id": "1y0ft0DZ9WZy",
        "outputId": "10f5fae5-de26-4150-b44c-fd0b103e82d2"
      },
      "source": [
        "uploadFileName = f'weights-{model_name}-{initial_weights}-epocs_{epocs}-batch_{batch_size}-{dt_string}.txt'\n",
        "try:\n",
        "  print('\\n Trying to upload best weights to gdrive ...')\n",
        "  upload = drive.CreateFile({'title': uploadFileName, 'parents': [{'id': '1Fo9h4-e-AvGSeYX0Q_086MnP7uquJMyN'}]})\n",
        "  upload.SetContentFile('/content/yolov5/runs/train/exp/weights/last.pt')\n",
        "  upload.Upload()\n",
        "  print(f'\\n Best weights uploaded to google drive. Uploaded file name = {uploadFileName}')\n",
        "except Exception as e:\n",
        "  print(f'\\n Failed to upload best weight file: {uploadFileName} to Google Drive. \\nException details: {e}')"
      ],
      "execution_count": null,
      "outputs": [
        {
          "output_type": "stream",
          "text": [
            "\n",
            " Trying to upload best weights to gdrive ...\n",
            "\n",
            " Best weights uploaded to google drive. Uploaded file name = weights-yolov5s6-pre_Init_Weights-epocs_150-batch_16-03062021-T-182444.txt\n"
          ],
          "name": "stdout"
        }
      ]
    },
    {
      "cell_type": "code",
      "metadata": {
        "colab": {
          "base_uri": "https://localhost:8080/"
        },
        "id": "VC_-Mrh59SU-",
        "outputId": "13563685-87b4-4f0d-b07c-f488acc4f09e"
      },
      "source": [
        "bak_archive_name = f'run-{model_name}-{initial_weights}-epocs_{epocs}-batch_{batch_size}-{dt_string}'\n",
        "bak_archive_path = r'/content/yolov5/backups-for-gdrive/'\n",
        "bak_archive = os.path.join(bak_archive_path, bak_archive_name)\n",
        "dir_to_archive = '/content/yolov5/runs'\n",
        "try:\n",
        "  print('\\n Trying to upload run folder to gdrive ...')\n",
        "  if not os.path.exists(bak_archive_path):\n",
        "    os.makedirs(bak_archive_path)\n",
        "\n",
        "  shutil.make_archive(base_name=bak_archive, root_dir=dir_to_archive, format= 'zip', base_dir=dir_to_archive)\n",
        "\n",
        "  file = drive.CreateFile({'title': f'{bak_archive_name}.zip', 'parents': [{'id': '1Fo9h4-e-AvGSeYX0Q_086MnP7uquJMyN'}]})\n",
        "  file.SetContentFile(f'{bak_archive}.zip')\n",
        "  file.Upload()  \n",
        "  print(f'\\n Run data uploaded to google drive. Uploaded file name = {bak_archive}')\n",
        "except Exception as e:\n",
        "  print(f'\\n Failed to upload Run data to GDrive: {bak_archive} to Google Drive. \\nException details: {e}')"
      ],
      "execution_count": null,
      "outputs": [
        {
          "output_type": "stream",
          "text": [
            "\n",
            " Trying to upload run folder to gdrive ...\n",
            "\n",
            " Run data uploaded to google drive. Uploaded file name = /content/yolov5/backups-for-gdrive/run-yolov5s6-pre_Init_Weights-epocs_150-batch_16-03062021-T-182444\n"
          ],
          "name": "stdout"
        }
      ]
    },
    {
      "cell_type": "markdown",
      "metadata": {
        "id": "lJM0X-gQHLig"
      },
      "source": [
        "# VISUALIZING THE TRAINING METRICS"
      ]
    },
    {
      "cell_type": "code",
      "metadata": {
        "id": "O1_iKB2AWonF"
      },
      "source": [
        "%load_ext tensorboard\n",
        "%tensorboard --logdir runs/train"
      ],
      "execution_count": null,
      "outputs": []
    },
    {
      "cell_type": "markdown",
      "metadata": {
        "id": "pCVi44UrwtKx"
      },
      "source": [
        "## PLOTTING TRAINING RESULTS"
      ]
    },
    {
      "cell_type": "code",
      "metadata": {
        "id": "kyc7jqvsw1u3"
      },
      "source": [
        "from utils.plots import plot_results\n",
        "\n",
        "plot_results(save_dir='runs/train/exp3')"
      ],
      "execution_count": null,
      "outputs": []
    },
    {
      "cell_type": "markdown",
      "metadata": {
        "id": "5STJ2WzXHVPx"
      },
      "source": [
        "# TESTING"
      ]
    },
    {
      "cell_type": "code",
      "metadata": {
        "id": "vkcJGHFmcPf3"
      },
      "source": [
        "!python test.py --weights /content/yolov5/runs/train/exp3/weights/best.pt --data my_data.yaml --img 640"
      ],
      "execution_count": null,
      "outputs": []
    },
    {
      "cell_type": "markdown",
      "metadata": {
        "id": "ix4DIYurLi6w"
      },
      "source": [
        "## Extract new images from zipped upload\n"
      ]
    },
    {
      "cell_type": "code",
      "metadata": {
        "colab": {
          "base_uri": "https://localhost:8080/"
        },
        "id": "GGBpkN0GLnVX",
        "outputId": "c0f8c481-0a12-45df-8327-ffcd17f338d9"
      },
      "source": [
        "%cd ..\n",
        "!unzip -q /content/extracted_images.zip \n",
        "%cd yolov5"
      ],
      "execution_count": null,
      "outputs": [
        {
          "output_type": "stream",
          "text": [
            "/content\n",
            "/content/yolov5\n"
          ],
          "name": "stdout"
        }
      ]
    },
    {
      "cell_type": "code",
      "metadata": {
        "id": "d_Cl-qR1Nqc_"
      },
      "source": [
        ""
      ],
      "execution_count": null,
      "outputs": []
    },
    {
      "cell_type": "markdown",
      "metadata": {
        "id": "L9AV1cUQHSLg"
      },
      "source": [
        "# DETECTING ON NEW IMAGES"
      ]
    },
    {
      "cell_type": "code",
      "metadata": {
        "id": "5R3aBtYFr_5d",
        "colab": {
          "base_uri": "https://localhost:8080/"
        },
        "outputId": "35baa2a4-7519-4e1a-c818-6ed1752a0a1e"
      },
      "source": [
        "!python detect.py --source /content/extracted_images --weights /content/last.pt --img 640 --save-txt --save-conf"
      ],
      "execution_count": null,
      "outputs": [
        {
          "output_type": "stream",
          "text": [
            "Namespace(agnostic_nms=False, augment=False, classes=None, conf_thres=0.25, device='', exist_ok=False, hide_conf=False, hide_labels=False, img_size=640, iou_thres=0.45, line_thickness=3, max_det=1000, name='exp', nosave=False, project='runs/detect', save_conf=True, save_crop=False, save_txt=True, source='/content/extracted_images', update=False, view_img=False, weights=['/content/last.pt'])\n",
            "YOLOv5 🚀 a173e41 torch 1.8.1+cu101 CUDA:0 (Tesla P100-PCIE-16GB, 16280.875MB)\n",
            "\n",
            "Fusing layers... \n",
            "Model Summary: 291 layers, 12360844 parameters, 0 gradients, 16.7 GFLOPS\n",
            "image 1/46 /content/extracted_images/frame1.jpg: 640x384 Done. (0.020s)\n",
            "image 2/46 /content/extracted_images/frame10.jpg: 640x384 1 Furniture, Done. (0.020s)\n",
            "image 3/46 /content/extracted_images/frame11.jpg: 640x384 1 Door, Done. (0.014s)\n",
            "image 4/46 /content/extracted_images/frame12.jpg: 640x384 1 Furniture, Done. (0.014s)\n",
            "image 5/46 /content/extracted_images/frame13.jpg: 640x384 1 Door, Done. (0.014s)\n",
            "image 6/46 /content/extracted_images/frame14.jpg: 640x384 1 Furniture, Done. (0.014s)\n",
            "image 7/46 /content/extracted_images/frame15.jpg: 640x384 1 Furniture, 1 Door, Done. (0.013s)\n",
            "image 8/46 /content/extracted_images/frame16.jpg: 640x384 1 Furniture, 1 Door, 1 Small Garments, Done. (0.013s)\n",
            "image 9/46 /content/extracted_images/frame17.jpg: 640x384 1 Furniture, 1 Door, 1 Small Garments, Done. (0.013s)\n",
            "image 10/46 /content/extracted_images/frame18.jpg: 640x384 1 Furniture, 1 Door, Done. (0.013s)\n",
            "image 11/46 /content/extracted_images/frame19.jpg: 640x384 Done. (0.012s)\n",
            "image 12/46 /content/extracted_images/frame2.jpg: 640x384 Done. (0.012s)\n",
            "image 13/46 /content/extracted_images/frame20.jpg: 640x384 1 Cables, Done. (0.012s)\n",
            "image 14/46 /content/extracted_images/frame21.jpg: 640x384 2 Doors, 1 Small Garments, Done. (0.013s)\n",
            "image 15/46 /content/extracted_images/frame22.jpg: 640x384 Done. (0.012s)\n",
            "image 16/46 /content/extracted_images/frame23.jpg: 640x384 Done. (0.012s)\n",
            "image 17/46 /content/extracted_images/frame24.jpg: 640x320 Done. (0.013s)\n",
            "image 18/46 /content/extracted_images/frame25.jpg: 640x320 1 Door, Done. (0.013s)\n",
            "image 19/46 /content/extracted_images/frame26.jpg: 640x320 1 Furniture, Done. (0.012s)\n",
            "image 20/46 /content/extracted_images/frame27.jpg: 640x320 1 Furniture, Done. (0.012s)\n",
            "image 21/46 /content/extracted_images/frame28.jpg: 640x320 1 Door, Done. (0.012s)\n",
            "image 22/46 /content/extracted_images/frame29.jpg: 640x320 Done. (0.012s)\n",
            "image 23/46 /content/extracted_images/frame3.jpg: 640x384 Done. (0.013s)\n",
            "image 24/46 /content/extracted_images/frame30.jpg: 640x320 1 Furniture, 1 Door, Done. (0.013s)\n",
            "image 25/46 /content/extracted_images/frame31.jpg: 640x320 1 Furniture, Done. (0.012s)\n",
            "image 26/46 /content/extracted_images/frame32.jpg: 640x320 1 Furniture, Done. (0.012s)\n",
            "image 27/46 /content/extracted_images/frame33.jpg: 640x320 1 Furniture, Done. (0.012s)\n",
            "image 28/46 /content/extracted_images/frame34.jpg: 640x320 1 Furniture, Done. (0.012s)\n",
            "image 29/46 /content/extracted_images/frame35.jpg: 640x320 2 Furnitures, Done. (0.012s)\n",
            "image 30/46 /content/extracted_images/frame36.jpg: 640x320 1 Furniture, Done. (0.012s)\n",
            "image 31/46 /content/extracted_images/frame37.jpg: 640x320 Done. (0.012s)\n",
            "image 32/46 /content/extracted_images/frame38.jpg: 640x320 1 Furniture, Done. (0.012s)\n",
            "image 33/46 /content/extracted_images/frame39.jpg: 384x640 Done. (0.013s)\n",
            "image 34/46 /content/extracted_images/frame4.jpg: 640x384 Done. (0.013s)\n",
            "image 35/46 /content/extracted_images/frame40.jpg: 384x640 Done. (0.013s)\n",
            "image 36/46 /content/extracted_images/frame41.jpg: 384x640 2 Furnitures, 2 Doors, Done. (0.013s)\n",
            "image 37/46 /content/extracted_images/frame42.jpg: 384x640 Done. (0.012s)\n",
            "image 38/46 /content/extracted_images/frame43.jpg: 384x640 Done. (0.012s)\n",
            "image 39/46 /content/extracted_images/frame44.jpg: 384x640 Done. (0.012s)\n",
            "image 40/46 /content/extracted_images/frame45.jpg: 640x384 1 Cables, Done. (0.014s)\n",
            "image 41/46 /content/extracted_images/frame46.jpg: 384x640 Done. (0.013s)\n",
            "image 42/46 /content/extracted_images/frame5.jpg: 640x384 Done. (0.013s)\n",
            "image 43/46 /content/extracted_images/frame6.jpg: 640x384 2 Furnitures, Done. (0.012s)\n",
            "image 44/46 /content/extracted_images/frame7.jpg: 640x384 2 Furnitures, 1 Small Garments, Done. (0.013s)\n",
            "image 45/46 /content/extracted_images/frame8.jpg: 640x384 1 Furniture, Done. (0.012s)\n",
            "image 46/46 /content/extracted_images/frame9.jpg: 640x384 2 Furnitures, 1 Small Garments, Done. (0.012s)\n",
            "Results saved to runs/detect/exp5\n",
            "29 labels saved to runs/detect/exp5/labels\n",
            "Done. (1.284s)\n"
          ],
          "name": "stdout"
        }
      ]
    },
    {
      "cell_type": "markdown",
      "metadata": {
        "id": "5Yh2zd2AHkUg"
      },
      "source": [
        "#RETRAINING FROM THE LAST CHECKPOINT"
      ]
    },
    {
      "cell_type": "code",
      "metadata": {
        "id": "r732j58annF4"
      },
      "source": [
        "!python train.py --weights /content/yolov5/runs/train/exp2/weights/last.pt --epochs 100 --img 416"
      ],
      "execution_count": null,
      "outputs": []
    },
    {
      "cell_type": "code",
      "metadata": {
        "id": "e1KbWCaf8EVu"
      },
      "source": [
        ""
      ],
      "execution_count": null,
      "outputs": []
    },
    {
      "cell_type": "code",
      "metadata": {
        "id": "eSdRPRle8Efp"
      },
      "source": [
        ""
      ],
      "execution_count": null,
      "outputs": []
    },
    {
      "cell_type": "code",
      "metadata": {
        "id": "vb72R3868El1"
      },
      "source": [
        ""
      ],
      "execution_count": null,
      "outputs": []
    },
    {
      "cell_type": "code",
      "metadata": {
        "id": "vPr3TAxw8Epu"
      },
      "source": [
        ""
      ],
      "execution_count": null,
      "outputs": []
    },
    {
      "cell_type": "code",
      "metadata": {
        "id": "BH8SYHXj8Eso"
      },
      "source": [
        ""
      ],
      "execution_count": null,
      "outputs": []
    },
    {
      "cell_type": "markdown",
      "metadata": {
        "id": "HPXuGBA1IaRa"
      },
      "source": [
        ""
      ]
    },
    {
      "cell_type": "code",
      "metadata": {
        "id": "ajBxXQdm8EwW"
      },
      "source": [
        ""
      ],
      "execution_count": null,
      "outputs": []
    },
    {
      "cell_type": "code",
      "metadata": {
        "id": "kc6GDXJ2WRqD"
      },
      "source": [
        "from google.colab import drive\n",
        "drive.mount('/content/drive')"
      ],
      "execution_count": null,
      "outputs": []
    },
    {
      "cell_type": "code",
      "metadata": {
        "id": "R8kjYG6-taNg"
      },
      "source": [
        "import re\n",
        "path='/content/yolov5/runs/detect/exp3/labels/11_image.txt'\n",
        "myfile=open(path,'r')\n",
        "lines=myfile.readlines()\n",
        "pattern= \"class_name\"\n",
        "\n",
        "cordinate = []\n",
        "for line in lines:\n",
        "  for x in line.splitlines():\n",
        "    cordinate.append([x[1:]])\n",
        "#   if re.search(pattern,line):\n",
        "#     Cord_Raw=line\n",
        "# Cord=Cord_Raw.split(\"(\")[1].split(\")\")[0].split(\"  \")"
      ],
      "execution_count": null,
      "outputs": []
    },
    {
      "cell_type": "code",
      "metadata": {
        "id": "p7XYQbIKyyW8"
      },
      "source": [
        "cordinate"
      ],
      "execution_count": null,
      "outputs": []
    },
    {
      "cell_type": "code",
      "metadata": {
        "id": "SbKXsc5O19ol"
      },
      "source": [
        "cordinate[0]"
      ],
      "execution_count": null,
      "outputs": []
    },
    {
      "cell_type": "code",
      "metadata": {
        "id": "yvusqn2s2BtU"
      },
      "source": [
        "\n",
        "import cv2\n",
        "img = cv2.imread(\"/content/drive/MyDrive/images/train/11_image.jpg\")\n",
        "print(img.shape)\n",
        "for i in cordinate:\n",
        "  count= 0\n",
        "  for val in i:\n",
        "    value = val.strip().split(\" \")\n",
        "    x_min = int(float(value[0])*img.shape[0])\n",
        "    x_max = x_min + int(float(value[2])*img.shape[0])\n",
        "    y_min = int(float(value[1])*img.shape[1])\n",
        "    y_max = y_min + int(float(value[3])*img.shape[1])\n",
        "    crop_img = img[y_min:y_max, x_min:x_max]\n",
        "    cv2.imwrite(f\"Object_{count}.jpg\",crop_img)\n",
        "    count = count + 1\n",
        "\n",
        "\n",
        "\n"
      ],
      "execution_count": null,
      "outputs": []
    },
    {
      "cell_type": "code",
      "metadata": {
        "id": "nPBJ1AbJAtvd"
      },
      "source": [
        ""
      ],
      "execution_count": null,
      "outputs": []
    },
    {
      "cell_type": "code",
      "metadata": {
        "id": "X6Nj4-gA1uQI"
      },
      "source": [
        "import cv2\n",
        "img = cv2.imread(\"/content/drive/MyDrive/images/train/11_image.jpg\")\n",
        "crop_img = img[y_min:y_max, x_min:x_max]\n",
        "cv2.imwrite(\"Object.jpg\",crop_img)"
      ],
      "execution_count": null,
      "outputs": []
    }
  ]
}